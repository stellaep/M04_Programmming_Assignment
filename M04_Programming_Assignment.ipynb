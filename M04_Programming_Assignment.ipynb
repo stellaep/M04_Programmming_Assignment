{
 "cells": [
  {
   "cell_type": "markdown",
   "id": "ea13c508-a7d5-4315-b68b-81f545156881",
   "metadata": {},
   "source": [
    "11.1"
   ]
  },
  {
   "cell_type": "code",
   "execution_count": 5,
   "id": "a242bd61-90f5-4d6a-9776-a77100324abc",
   "metadata": {},
   "outputs": [
    {
     "name": "stdout",
     "output_type": "stream",
     "text": [
      "Open 9-5 daily\n"
     ]
    }
   ],
   "source": [
    "import zoo\n",
    "zoo.hours()"
   ]
  },
  {
   "cell_type": "markdown",
   "id": "57541782-5fc8-4d62-b0b0-6427f6ac4df3",
   "metadata": {},
   "source": [
    "11.2"
   ]
  },
  {
   "cell_type": "code",
   "execution_count": 6,
   "id": "0a46c6e1-b19e-4cd1-a627-f15a9447bf14",
   "metadata": {},
   "outputs": [
    {
     "name": "stdout",
     "output_type": "stream",
     "text": [
      "Open 9-5 daily\n"
     ]
    }
   ],
   "source": [
    "import zoo as menagerie\n",
    "menagerie.hours()"
   ]
  },
  {
   "cell_type": "code",
   "execution_count": null,
   "id": "1147f1c3-9de1-4da6-bfcf-c94e0c42017c",
   "metadata": {},
   "outputs": [],
   "source": [
    "16.8"
   ]
  },
  {
   "cell_type": "code",
   "execution_count": 7,
   "id": "2fe93273-2977-4445-909c-052c829a54a5",
   "metadata": {},
   "outputs": [
    {
     "data": {
      "text/plain": [
       "<sqlite3.Cursor at 0x1be231201c0>"
      ]
     },
     "execution_count": 7,
     "metadata": {},
     "output_type": "execute_result"
    }
   ],
   "source": [
    "import sqlite3\n",
    "conn = sqlite3.connect('books.db')\n",
    "curs = conn.cursor()\n",
    "curs.execute('''CREATE TABLE books\n",
    "    (title VARCHAR(40) PRIMARY KEY,\n",
    "      author VARCHAR(40),\n",
    "      year INT)''')"
   ]
  },
  {
   "cell_type": "code",
   "execution_count": 59,
   "id": "762eae2f-648d-40bf-be1f-e16deb91ad24",
   "metadata": {},
   "outputs": [
    {
     "name": "stdout",
     "output_type": "stream",
     "text": [
      "('Eats, Shoots & Leaves',)\n",
      "('The Hobbit',)\n"
     ]
    }
   ],
   "source": [
    "import sqlalchemy\n",
    "book = 'INSERT INTO books (title, author) VALUES'\n",
    "conn.execute(\"INSERT INTO books (title, author) VALUES('The Hobbit','J R R Tolkien')\")\n",
    "conn.execute(\"INSERT INTO books (title, author) VALUES('Eats, Shoots & Leaves', 'Lynne Truss')\")\n",
    "titles = conn.execute(\"SELECT title FROM books ORDER BY title\")\n",
    "for title in titles:\n",
    "    print(title)"
   ]
  },
  {
   "cell_type": "code",
   "execution_count": null,
   "id": "eb6e9e01-99a2-410e-9af4-e5af1aa58a15",
   "metadata": {},
   "outputs": [],
   "source": []
  }
 ],
 "metadata": {
  "kernelspec": {
   "display_name": "Python 3 (ipykernel)",
   "language": "python",
   "name": "python3"
  },
  "language_info": {
   "codemirror_mode": {
    "name": "ipython",
    "version": 3
   },
   "file_extension": ".py",
   "mimetype": "text/x-python",
   "name": "python",
   "nbconvert_exporter": "python",
   "pygments_lexer": "ipython3",
   "version": "3.11.7"
  }
 },
 "nbformat": 4,
 "nbformat_minor": 5
}
